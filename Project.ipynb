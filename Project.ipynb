{
  "nbformat": 4,
  "nbformat_minor": 0,
  "metadata": {
    "colab": {
      "provenance": [],
      "authorship_tag": "ABX9TyMxRlqeHtpjIj6gxBAeIHDo",
      "include_colab_link": true
    },
    "kernelspec": {
      "name": "python3",
      "display_name": "Python 3"
    },
    "language_info": {
      "name": "python"
    }
  },
  "cells": [
    {
      "cell_type": "markdown",
      "metadata": {
        "id": "view-in-github",
        "colab_type": "text"
      },
      "source": [
        "<a href=\"https://colab.research.google.com/github/hosseinkhoshdel/Project1/blob/main/Project.ipynb\" target=\"_parent\"><img src=\"https://colab.research.google.com/assets/colab-badge.svg\" alt=\"Open In Colab\"/></a>"
      ]
    },
    {
      "cell_type": "code",
      "source": [
        "!wget https://www.kaggle.com/datasets/emmarex/plantdisease/download -O plantdisease.zip\n",
        "\n",
        "!unzip plantdisease.zip"
      ],
      "metadata": {
        "colab": {
          "base_uri": "https://localhost:8080/",
          "height": 0
        },
        "id": "rWUhHCPzH8eI",
        "outputId": "63912877-5323-45ea-ec37-6fbc9f56595b"
      },
      "execution_count": 2,
      "outputs": [
        {
          "output_type": "stream",
          "name": "stdout",
          "text": [
            "--2023-10-16 06:15:42--  https://www.kaggle.com/datasets/emmarex/plantdisease/download\n",
            "Resolving www.kaggle.com (www.kaggle.com)... 35.244.233.98\n",
            "Connecting to www.kaggle.com (www.kaggle.com)|35.244.233.98|:443... connected.\n",
            "HTTP request sent, awaiting response... 302 Found\n",
            "Location: /account/login?titleType=dataset-downloads&showDatasetDownloadSkip=False&messageId=datasetsWelcome&returnUrl=%2Fdatasets%2Femmarex%2Fplantdisease%3Fresource%3Ddownload [following]\n",
            "--2023-10-16 06:15:43--  https://www.kaggle.com/account/login?titleType=dataset-downloads&showDatasetDownloadSkip=False&messageId=datasetsWelcome&returnUrl=%2Fdatasets%2Femmarex%2Fplantdisease%3Fresource%3Ddownload\n",
            "Reusing existing connection to www.kaggle.com:443.\n",
            "HTTP request sent, awaiting response... 200 OK\n",
            "Length: unspecified [text/html]\n",
            "Saving to: ‘plantdisease.zip’\n",
            "\n",
            "plantdisease.zip        [ <=>                ]   4.80K  --.-KB/s    in 0s      \n",
            "\n",
            "2023-10-16 06:15:43 (33.5 MB/s) - ‘plantdisease.zip’ saved [4913]\n",
            "\n",
            "Archive:  plantdisease.zip\n",
            "  End-of-central-directory signature not found.  Either this file is not\n",
            "  a zipfile, or it constitutes one disk of a multi-part archive.  In the\n",
            "  latter case the central directory and zipfile comment will be found on\n",
            "  the last disk(s) of this archive.\n",
            "unzip:  cannot find zipfile directory in one of plantdisease.zip or\n",
            "        plantdisease.zip.zip, and cannot find plantdisease.zip.ZIP, period.\n"
          ]
        }
      ]
    },
    {
      "cell_type": "code",
      "execution_count": null,
      "metadata": {
        "id": "xzbooY6ZFiIK"
      },
      "outputs": [],
      "source": [
        "\n",
        "import cv2\n",
        "import numpy as np\n",
        "import tensorflow as tf\n",
        "from glob import glob\n",
        "from tensorflow import keras\n",
        "from tensorflow.keras import layers\n",
        "\n",
        "# پیش‌پردازش تصاویر\n",
        "images_path = 'plantvillage/**/*.jpg'\n",
        "preprocessed_path = 'preprocessed/'\n",
        "\n",
        "for img_path in glob(images_path):\n",
        "  img = cv2.imread(img_path)\n",
        "  img = cv2.cvtColor(img, cv2.COLOR_BGR2GRAY)\n",
        "  img = cv2.equalizeHist(img)\n",
        "  img = cv2.GaussianBlur(img, (3,3), 0)\n",
        "  edges = cv2.Canny(img, 100, 200)\n",
        "\n",
        "  save_path = preprocessed_path + img_path.split('/')[-1]\n",
        "  cv2.imwrite(save_path, edges)\n",
        "\n",
        "\n",
        "# بارگذاری تصاویر پیش‌پردازش شده\n",
        "preprocessed_images_path = 'preprocessed/**/*.jpg'\n",
        "\n",
        "train_data = []\n",
        "for img_path in glob(preprocessed_images_path):\n",
        "  img = cv2.imread(img_path)\n",
        "  train_data.append(img)\n",
        "\n",
        "# تقسیم بندی داده‌های آموزش و تست\n",
        "x_train = train_data[:80]\n",
        "x_test = train_data[80:]\n",
        "\n",
        "# تعریف و آموزش مدل\n",
        "model = keras.Sequential([\n",
        "   layers.Conv2D(32, 3, activation='relu', input_shape=(256, 256, 1)),\n",
        "   layers.MaxPool2D(),\n",
        "   layers.Conv2D(64, 3, activation='relu'),\n",
        "   layers.MaxPool2D(),\n",
        "   layers.Conv2D(128, 3, activation='relu'),\n",
        "   layers.MaxPool2D(),\n",
        "   layers.Flatten(),\n",
        "   layers.Dense(512, activation='relu'),\n",
        "   layers.Dense(3)\n",
        "])\n",
        "\n",
        "model.compile(optimizer='adam', loss='mse')\n",
        "model.fit(x_train, y_train, epochs=10)\n",
        "\n",
        "# تبدیل تصاویر جدید\n",
        "imgs_3d = model.predict(x_test)"
      ]
    },
    {
      "cell_type": "code",
      "source": [
        "استخراج ویژگی"
      ],
      "metadata": {
        "id": "2O44ou1pF0Mf"
      },
      "execution_count": null,
      "outputs": []
    },
    {
      "cell_type": "code",
      "source": [
        "import numpy as np\n",
        "from skimage.measure import marching_cubes, mesh_surface_area\n",
        "\n",
        "# بارگذاری مدل های سه بعدی\n",
        "models_3d = imgs_3d\n",
        "\n",
        "features = []\n",
        "\n",
        "for model in models_3d:\n",
        "\n",
        "  # محاسبه حجم\n",
        "  volume = np.sum(model)\n",
        "\n",
        "  # محاسبه سطح\n",
        "  verts, faces, norm, val = marching_cubes(model, 0)\n",
        "  surface_area = mesh_surface_area(verts, faces)\n",
        "\n",
        "  # استخراج ویژگی بافت\n",
        "  texture = measure_texture(model)\n",
        "\n",
        "  # استخراج ویژگی شکل\n",
        "  shape = measure_shape(model)\n",
        "\n",
        "  # محاسبه میانگین رنگ\n",
        "  color = np.mean(model, axis=(0,1))\n",
        "\n",
        "  # ذخیره ویژگی‌های استخراج شده\n",
        "  features.append([volume, surface_area, texture, shape, color])\n",
        "\n",
        "# ذخیره ویژگی‌ها در Numpy Array\n",
        "features = np.asarray(features)\n",
        "np.save('features.npy', features)"
      ],
      "metadata": {
        "id": "nJ-4Kfc7F1Ga"
      },
      "execution_count": null,
      "outputs": []
    }
  ]
}